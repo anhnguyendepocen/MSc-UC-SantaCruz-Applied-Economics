{
 "cells": [
  {
   "cell_type": "markdown",
   "metadata": {},
   "source": [
    "## Frequentist\n",
    "- A sample is viewed as a randomly selected subset of a larger (potentially hypothetical) population\n",
    "- Long run frequency statements are made about the larger population\n",
    "- take an example of N flips of a coin, N is the sample (potential population is the entire set of possible flips)\n",
    "- Each flip follows a Bernoulli distribution with Probability of 1 == p\n",
    "- appealing to Central Limit Theorem, you can assume the long run behaviour follows a normal distribution (all properties of normal will follow)\n",
    "- Remember, for N bernoulli trials, the distrubtion will be Binomial. So apply this PMF.\n",
    "- https://math.mit.edu/~rmd/650/binomconfints.pdf for estimating p\n",
    "- http://dept.stat.lsa.umich.edu/~kshedden/Courses/Stat485/Notes/binomial_confidence_intervals.pdf\n",
    "\n",
    "### interpreting Confidence intervals\n",
    "- if we repeat an experiment infinitely many times, then 95%(or whatever you choose) of the confidence intervals constructed will contain the correct estimated value of P\n",
    "- notice how this is not the intuitive way to think about it, normally someone would think it means \"95%\" confident your estimated value of P is contained within the upper and lower bound...\n",
    "- So what is the probability that P is in any given interval? According to frequentist approach, it either is or is not (assuming that there is some sort of certainty, and the only uncertainty we have comes from sampling variance!!!!)"
   ]
  },
  {
   "cell_type": "code",
   "execution_count": null,
   "metadata": {},
   "outputs": [],
   "source": []
  }
 ],
 "metadata": {
  "kernelspec": {
   "display_name": "Python 3",
   "language": "python",
   "name": "python3"
  },
  "language_info": {
   "codemirror_mode": {
    "name": "ipython",
    "version": 3
   },
   "file_extension": ".py",
   "mimetype": "text/x-python",
   "name": "python",
   "nbconvert_exporter": "python",
   "pygments_lexer": "ipython3",
   "version": "3.6.4"
  }
 },
 "nbformat": 4,
 "nbformat_minor": 2
}
